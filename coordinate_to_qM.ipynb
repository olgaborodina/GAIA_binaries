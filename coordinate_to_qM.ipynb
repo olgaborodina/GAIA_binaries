{
 "cells": [
  {
   "cell_type": "markdown",
   "metadata": {},
   "source": [
    "## libs"
   ]
  },
  {
   "cell_type": "code",
   "execution_count": 1,
   "metadata": {},
   "outputs": [],
   "source": [
    "import pandas as pd\n",
    "import numpy as np\n",
    "import random as random\n",
    "import matplotlib.pyplot as plt\n",
    "import matplotlib.pylab as plab\n",
    "\n",
    "from scipy.interpolate import interp1d\n",
    "from scipy.optimize import curve_fit\n",
    "from sklearn.neighbors import KernelDensity\n",
    "import scipy.integrate as integrate\n",
    "from pathlib import Path\n",
    "from tqdm import tqdm"
   ]
  },
  {
   "cell_type": "markdown",
   "metadata": {},
   "source": [
    "## initialization"
   ]
  },
  {
   "cell_type": "code",
   "execution_count": 2,
   "metadata": {},
   "outputs": [],
   "source": [
    "STARS_DIRECTORY = Path('../sessions/')\n",
    "ISOCHRONES_DIRECTORY = Path ('../isochrones/')\n",
    "MAIN_DIRECTORY = Path('../')\n",
    "PLOTS_DIRECTORY = Path ('../plots/')"
   ]
  },
  {
   "cell_type": "code",
   "execution_count": 3,
   "metadata": {},
   "outputs": [],
   "source": [
    "def get_stars_with_mass(table, name):\n",
    "    \n",
    "    main_component = pd.DataFrame(columns=table.columns, index=[0])\n",
    "    \n",
    "    for M_1 in table.columns:\n",
    "        stars = pd.DataFrame(data={'q' : table.index})\n",
    "        stars['M_2'] = float(M_1) * stars['q']\n",
    "        \n",
    "        stars['G_2, mag'] = interp(isochrone['Mini'], isochrone['Gmag'], stars['M_2'])\n",
    "        stars['BP_2, mag'] = interp(isochrone['Mini'], isochrone[\"G_BPmag\"], stars['M_2']) \n",
    "        stars['RP_2, mag'] = interp(isochrone['Mini'], isochrone[\"G_RPmag\"], stars['M_2'])\n",
    "\n",
    "        G_1 = interp(isochrone['Mini'], isochrone['Gmag'], M_1)\n",
    "        BP_1 = interp(isochrone['Mini'], isochrone[\"G_BPmag\"], M_1) \n",
    "        RP_1 = interp(isochrone['Mini'], isochrone[\"G_RPmag\"], M_1)\n",
    "\n",
    "        stars['G, mag'] = stars['G_2, mag'] - 2.5 * np.log10(1 + pow(2.512, stars['G_2, mag'] - G_1))\n",
    "        stars['BP-RP, mag'] = (stars['BP_2, mag'] - 2.5 * np.log10(1 + pow(2.512, stars['BP_2, mag'] - BP_1)) -\n",
    "                              (stars['RP_2, mag'] - 2.5 * np.log10(1 + pow(2.512, stars['RP_2, mag'] - RP_1))))\n",
    "\n",
    "\n",
    "        if name == 'g':\n",
    "            table[M_1] = stars['G, mag'].tolist()\n",
    "            main_component[M_1] = G_1\n",
    "\n",
    "        elif name == 'color':\n",
    "            table[M_1] = stars['BP-RP, mag'].tolist()\n",
    "            main_component[M_1]= BP_1 - RP_1\n",
    "        else:\n",
    "            raise ValueError('wrong name') \n",
    "\n",
    "    table = main_component.append(table, ignore_index=False)\n",
    "    return table\n",
    "\n",
    "\n",
    "def read_file(filename):\n",
    "    df = pd.read_csv(filename, delimiter='\\\\s+')\n",
    "    df = df.apply(pd.to_numeric, errors='coerce')\n",
    "    try:\n",
    "        df.dropna(subset = ['phot_g_mean_mag','bp_rp'], inplace = True)\n",
    "    except:\n",
    "        pass\n",
    "    return df\n",
    "\n",
    "def gauss(x, a, b, c, d):\n",
    "    return a * np.exp(-(x - b)**2 / c) + d\n",
    "\n",
    "def interp (a, b, c): \n",
    "    \"\"\"get mass of starS with definite magnitude\"\"\"\n",
    "    func = interp1d(a, b)\n",
    "    return func(c)"
   ]
  },
  {
   "cell_type": "code",
   "execution_count": 4,
   "metadata": {},
   "outputs": [],
   "source": [
    "CLUSTER = 'NGC_2281'"
   ]
  },
  {
   "cell_type": "code",
   "execution_count": 5,
   "metadata": {},
   "outputs": [],
   "source": [
    "clusters_list = pd.read_excel(MAIN_DIRECTORY / 'cluster_list_data.xlsx', index_col = 0)"
   ]
  },
  {
   "cell_type": "code",
   "execution_count": 6,
   "metadata": {},
   "outputs": [],
   "source": [
    "stars = read_file(STARS_DIRECTORY / f'{CLUSTER}_selected_2')\n",
    "isochrone = read_file(ISOCHRONES_DIRECTORY / f\"{CLUSTER}_{clusters_list.loc[CLUSTER,'Age']}.txt\")\n",
    "isochrone = isochrone[isochrone['G_BPmag'] - isochrone['G_RPmag'] > 0]\n",
    "\n",
    "stars['bp-rp'] = stars['phot_bp_mean_mag'] - stars['phot_rp_mean_mag']"
   ]
  },
  {
   "cell_type": "code",
   "execution_count": 7,
   "metadata": {},
   "outputs": [],
   "source": [
    "mask = ((stars['bp-rp'] > 0.3 + 1.33104 * clusters_list.loc[CLUSTER,'E(B-V)']) & \n",
    "        (stars['bp-rp'] < 0.963 + 1.33104 * clusters_list.loc[CLUSTER,'E(B-V)']))\n",
    "stars = stars[mask]"
   ]
  },
  {
   "cell_type": "code",
   "execution_count": 8,
   "metadata": {},
   "outputs": [],
   "source": [
    "stars.reset_index(inplace=True)"
   ]
  },
  {
   "cell_type": "markdown",
   "metadata": {},
   "source": [
    "## qM coordinates grid"
   ]
  },
  {
   "cell_type": "code",
   "execution_count": 9,
   "metadata": {},
   "outputs": [],
   "source": [
    "q_array = np.linspace(0.102, 1, 101)\n",
    "M_array = np.geomspace(0.884, 1.7, 151)\n",
    "\n",
    "g_table = pd.DataFrame(columns = M_array, index=q_array)\n",
    "color_table = pd.DataFrame(columns = M_array, index=q_array)"
   ]
  },
  {
   "cell_type": "code",
   "execution_count": 10,
   "metadata": {},
   "outputs": [],
   "source": [
    "g_table = get_stars_with_mass(g_table, 'g')\n",
    "color_table = get_stars_with_mass(color_table, 'color')"
   ]
  },
  {
   "cell_type": "code",
   "execution_count": 11,
   "metadata": {},
   "outputs": [],
   "source": [
    "g_table -= (5 - 5 * np.log10(clusters_list.loc[CLUSTER,'Distance']) \n",
    "            - 2.749632 * (clusters_list.loc[CLUSTER, 'E(B-V)']))\n",
    "color_table += 1.33104 * clusters_list.loc[CLUSTER,'E(B-V)']"
   ]
  },
  {
   "cell_type": "markdown",
   "metadata": {},
   "source": [
    "## new coordinates definition"
   ]
  },
  {
   "cell_type": "code",
   "execution_count": 12,
   "metadata": {},
   "outputs": [],
   "source": [
    "M_1 = np.ndarray((len(stars+1)))\n",
    "q = np.ndarray((len(stars+1)))"
   ]
  },
  {
   "cell_type": "code",
   "execution_count": 13,
   "metadata": {},
   "outputs": [
    {
     "name": "stderr",
     "output_type": "stream",
     "text": [
      "100%|██████████| 99/99 [00:13<00:00,  7.84it/s]\n"
     ]
    }
   ],
   "source": [
    "for i in tqdm(range(len(stars))):\n",
    "    g = stars.loc[i,'phot_g_mean_mag']\n",
    "    color = stars.loc[i,'bp-rp']\n",
    "\n",
    "    g_difference = (g_table - g) * (g_table - g)\n",
    "    color_difference = (color_table - color) * (color_table - color)\n",
    "    \n",
    "    distance = g_difference + color_difference\n",
    "    M_1[i] = distance.min().idxmin()\n",
    "    q[i] = distance[M_1[i]].idxmin()"
   ]
  },
  {
   "cell_type": "code",
   "execution_count": 14,
   "metadata": {},
   "outputs": [],
   "source": [
    "stars['M_1_detected'] = M_1\n",
    "stars['q_detected'] = q\n",
    "stars['M_2_detected'] = M_1 * q"
   ]
  },
  {
   "cell_type": "code",
   "execution_count": 15,
   "metadata": {},
   "outputs": [
    {
     "data": {
      "text/plain": [
       "<matplotlib.axes._subplots.AxesSubplot at 0x114f489e8>"
      ]
     },
     "execution_count": 15,
     "metadata": {},
     "output_type": "execute_result"
    },
    {
     "data": {
      "image/png": "[encoded data removed]",
      "text/plain": [
       "<Figure size 432x288 with 1 Axes>"
      ]
     },
     "metadata": {
      "needs_background": "light"
     },
     "output_type": "display_data"
    }
   ],
   "source": [
    "stars['q_detected'].plot.hist(20)"
   ]
  },
  {
   "cell_type": "markdown",
   "metadata": {},
   "source": [
    "## from qM to magnitudes transition"
   ]
  },
  {
   "cell_type": "code",
   "execution_count": 16,
   "metadata": {},
   "outputs": [],
   "source": [
    "stars['G1_after'] = interp(isochrone['Mini'], isochrone['Gmag'], stars['M_1_detected'])\n",
    "stars['BP1_after'] = interp(isochrone['Mini'], isochrone[\"G_BPmag\"], stars['M_1_detected']) \n",
    "stars['RP1_after'] = interp(isochrone['Mini'], isochrone[\"G_RPmag\"], stars['M_1_detected'])\n",
    "\n",
    "\n",
    "stars['G2_after'] = 0\n",
    "stars['BP2_after'] = 0\n",
    "stars['RP2_after'] = 0\n",
    "\n",
    "mask = (stars['q_detected'] > 0)\n",
    "stars.loc[stars[mask].index,'G2_after'] = interp(isochrone['Mini'], isochrone['Gmag'],\n",
    "                                                 stars.loc[stars[mask].index,'M_2_detected'])\n",
    "stars.loc[stars[mask].index,'BP2_after'] = interp(isochrone['Mini'], isochrone['G_BPmag'],\n",
    "                                                 stars.loc[stars[mask].index,'M_2_detected'])\n",
    "stars.loc[stars[mask].index,'RP2_after'] = interp(isochrone['Mini'], isochrone['G_RPmag'],\n",
    "                                                 stars.loc[stars[mask].index,'M_2_detected'])"
   ]
  },
  {
   "cell_type": "code",
   "execution_count": 17,
   "metadata": {},
   "outputs": [],
   "source": [
    "stars['G_after'] = stars['G1_after'] - 2.5 * np.log10(1+ pow(2.512, stars['G1_after'] - stars['G2_after']))\n",
    "stars['BP-RP_after'] = (stars['BP1_after'] -\n",
    "                          2.5 *np.log10(1 + pow(2.512, stars['BP1_after'] - stars['BP2_after'])) -\n",
    "                          (stars['RP1_after'] - 2.5 *np.log10(1+ pow(2.512, stars['RP1_after'] - \n",
    "                           stars['RP2_after']))))\n",
    "\n",
    "mask_singles = (stars['q_detected'] == 0)\n",
    "stars.loc[stars[mask_singles].index,'G_after']  = stars.loc[stars[mask_singles].index,'G1_after']\n",
    "stars.loc[stars[mask_singles].index,'BP-RP_after']  = (stars.loc[stars[mask_singles].index,'BP1_after'] -\n",
    "                                                       stars.loc[stars[mask_singles].index,'RP1_after'])"
   ]
  },
  {
   "cell_type": "code",
   "execution_count": 18,
   "metadata": {},
   "outputs": [
    {
     "data": {
      "image/png": "[encoded data removed]",
      "text/plain": [
       "<Figure size 720x504 with 2 Axes>"
      ]
     },
     "metadata": {
      "needs_background": "light"
     },
     "output_type": "display_data"
    }
   ],
   "source": [
    "fig, ax = plt.subplots(figsize=(10,7))\n",
    "\n",
    "plt.rcParams.update({'font.size': 25})\n",
    "plt.rc('text', usetex=True)\n",
    "plt.rc('font', family='serif')\n",
    "\n",
    "plt.rcParams.update({'font.size': 15})\n",
    "plt.rc('text', usetex=True)\n",
    "plt.rc('font', family='serif')\n",
    "plt.rc('text.latex', preamble=r'\\usepackage[utf8]{inputenc}')\n",
    "plt.rc('text.latex', preamble=r'\\usepackage[russian]{babel}')\n",
    "\n",
    "\n",
    "plt.subplot(1, 2, 1)\n",
    "plt.scatter (stars['bp-rp'],\n",
    "            stars['phot_g_mean_mag'],\n",
    "            c='black', s=2, zorder=100, label='real cluster')\n",
    "plt.gca().invert_yaxis()\n",
    "plt.legend(loc='upper right')\n",
    "plt.xlabel('$BP-RP$')\n",
    "plt.ylabel('Звездная величина в полосе $G$')\n",
    "\n",
    "plt.subplot(1, 2, 2)\n",
    "plt.scatter (stars['BP-RP_after']+1.33104 * clusters_list.loc[CLUSTER,'E(B-V)'],\n",
    "            stars['G_after'] - (5 - 5 * np.log10(clusters_list.loc[CLUSTER,'Distance']) \n",
    "            - 2.749632 * (clusters_list.loc[CLUSTER, 'E(B-V)'])),\n",
    "            c='black', s=2, zorder=100, label=\"cluster after procedures\")\n",
    "plt.legend(loc='upper right')\n",
    "plt.gca().invert_yaxis()\n",
    "plt.xlabel('$BP-RP$')\n",
    "\n",
    "\n",
    "ax.grid(c='#aaaaaa', ls='--')\n",
    "\n",
    "ax.tick_params(axis='both', which='major')\n",
    "\n",
    "plt.savefig( PLOTS_DIRECTORY / (f\"CMD_{CLUSTER}_before_after.pdf\"), bbox_inches = 'tight')"
   ]
  }
 ],
 "metadata": {
  "kernelspec": {
   "display_name": "Python 3",
   "language": "python",
   "name": "python3"
  },
  "language_info": {
   "codemirror_mode": {
    "name": "ipython",
    "version": 3
   },
   "file_extension": ".py",
   "mimetype": "text/x-python",
   "name": "python",
   "nbconvert_exporter": "python",
   "pygments_lexer": "ipython3",
   "version": "3.7.2"
  }
 },
 "nbformat": 4,
 "nbformat_minor": 2
}
