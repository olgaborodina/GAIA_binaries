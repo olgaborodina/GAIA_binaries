{
 "cells": [
  {
   "cell_type": "markdown",
   "metadata": {},
   "source": [
    "## libs"
   ]
  },
  {
   "cell_type": "code",
   "execution_count": 1,
   "metadata": {},
   "outputs": [],
   "source": [
    "import pandas as pd\n",
    "import numpy as np\n",
    "from pathlib import Path"
   ]
  },
  {
   "cell_type": "code",
   "execution_count": 2,
   "metadata": {},
   "outputs": [],
   "source": [
    "from scipy.interpolate import interp1d\n",
    "from scipy.optimize import curve_fit"
   ]
  },
  {
   "cell_type": "code",
   "execution_count": 3,
   "metadata": {},
   "outputs": [],
   "source": [
    "import matplotlib.pyplot as plt\n",
    "from tqdm import tqdm"
   ]
  },
  {
   "cell_type": "markdown",
   "metadata": {},
   "source": [
    "## initialization"
   ]
  },
  {
   "cell_type": "code",
   "execution_count": 4,
   "metadata": {},
   "outputs": [],
   "source": [
    "STARS_DIRECTORY = Path('../clusters_mem/')\n",
    "ISOCHRONES_DIRECTORY = Path ('../isochrones/')\n",
    "PLOTS_DIRECTORY = Path ('../plots/')\n",
    "MAIN_DIRECTORY = Path('../')"
   ]
  },
  {
   "cell_type": "code",
   "execution_count": 5,
   "metadata": {},
   "outputs": [],
   "source": [
    "def get_stars_with_mass(table, name):\n",
    "    \"\"\"create df with the value needed (name= 'G' or 'BP-RP') for different q\"\"\"\n",
    "    \n",
    "    main_component = pd.DataFrame(columns=table.columns, index=[0])\n",
    "    \n",
    "    for M_1 in table.columns:\n",
    "        stars = pd.DataFrame(data={'q' : table.index})\n",
    "        stars['M_2'] = float(M_1) * stars['q']\n",
    "        \n",
    "        stars['G_2, mag'] = interp(isochrone['Mini'], isochrone['Gmag'], stars['M_2'])\n",
    "        stars['BP_2, mag'] = interp(isochrone['Mini'], isochrone[\"G_BPmag\"], stars['M_2']) \n",
    "        stars['RP_2, mag'] = interp(isochrone['Mini'], isochrone[\"G_RPmag\"], stars['M_2'])\n",
    "\n",
    "        G_1 = interp(isochrone['Mini'], isochrone['Gmag'], M_1)\n",
    "        BP_1 = interp(isochrone['Mini'], isochrone[\"G_BPmag\"], M_1) \n",
    "        RP_1 = interp(isochrone['Mini'], isochrone[\"G_RPmag\"], M_1)\n",
    "\n",
    "        stars['G, mag'] = stars['G_2, mag'] - 2.5 * np.log10(1 + pow(2.512, stars['G_2, mag'] - G_1))\n",
    "        stars['BP-RP, mag'] = (stars['BP_2, mag'] - 2.5 * np.log10(1 + pow(2.512, stars['BP_2, mag'] - BP_1)) -\n",
    "                              (stars['RP_2, mag'] - 2.5 * np.log10(1 + pow(2.512, stars['RP_2, mag'] - RP_1))))\n",
    "\n",
    "\n",
    "        if name == 'G':\n",
    "            table[M_1] = stars['G, mag'].tolist()\n",
    "            main_component[M_1] = G_1\n",
    "\n",
    "        elif name == 'BP-RP':\n",
    "            table[M_1] = stars['BP-RP, mag'].tolist()\n",
    "            main_component[M_1]= BP_1 - RP_1\n",
    "        else:\n",
    "            raise ValueError('wrong name') \n",
    "\n",
    "    table = main_component.append(table, ignore_index=False)\n",
    "    return table\n",
    "\n",
    "\n",
    "def read_file(filename):\n",
    "    \"\"\"read file\"\"\"\n",
    "    df = pd.read_csv(filename, delimiter='\\\\s+')\n",
    "    df = df.apply(pd.to_numeric, errors='coerce')\n",
    "    try:\n",
    "        df.dropna(subset = ['phot_g_mean_mag','bp_rp'], inplace = True)\n",
    "    except:\n",
    "        pass\n",
    "    return df\n",
    "\n",
    "def interp (a, b, c): \n",
    "    \"\"\"get mass of starS with definite magnitude\"\"\"\n",
    "    func = interp1d(a, b)\n",
    "    return func(c)\n",
    "\n",
    "def from_absolute(value, mag_type, cluster):\n",
    "    \"\"\"transform absolute to visible magnitude and color index ('G' or 'BP-RP')\"\"\"\n",
    "    if mag_type == 'G':\n",
    "        return value - 5 + 5 * np.log10(cluster.loc['Distance']) + 2.749632 * (cluster.loc['E(B-V)'])\n",
    "    elif mag_type == 'BP-RP':\n",
    "        return value + 1.33104 * cluster.loc['E(B-V)']\n",
    "    else:\n",
    "        raise ValueError(\"mag_type can be only 'G' or 'BP-RP'\")"
   ]
  },
  {
   "cell_type": "code",
   "execution_count": 6,
   "metadata": {},
   "outputs": [],
   "source": [
    "CLUSTER = 'NGC_2516'"
   ]
  },
  {
   "cell_type": "code",
   "execution_count": 7,
   "metadata": {},
   "outputs": [],
   "source": [
    "clusters_list = pd.read_excel(MAIN_DIRECTORY / 'cluster_list_data.xlsx', index_col = 0)"
   ]
  },
  {
   "cell_type": "code",
   "execution_count": 8,
   "metadata": {},
   "outputs": [],
   "source": [
    "all_stars = read_file(STARS_DIRECTORY / f'{CLUSTER}.asc')\n",
    "isochrone = read_file(ISOCHRONES_DIRECTORY / f\"{CLUSTER}_{clusters_list.loc[CLUSTER,'Age']}.txt\")\n",
    "isochrone = isochrone[isochrone['G_BPmag'] - isochrone['G_RPmag'] > 0]"
   ]
  },
  {
   "cell_type": "markdown",
   "metadata": {},
   "source": [
    "## cutting off stars in the interval"
   ]
  },
  {
   "cell_type": "code",
   "execution_count": 9,
   "metadata": {},
   "outputs": [],
   "source": [
    "mask_probability = (all_stars['Ptot'] > 0.8)\n",
    "\n",
    "stars = all_stars[mask_probability].copy()\n",
    "stars['bp-rp'] = stars['phot_bp_mean_mag'] - stars['phot_rp_mean_mag']"
   ]
  },
  {
   "cell_type": "code",
   "execution_count": 10,
   "metadata": {},
   "outputs": [],
   "source": [
    "mask_color = ((stars['bp-rp'] > from_absolute(0.1, 'BP-RP', clusters_list.loc[CLUSTER, :])) & \n",
    "        (stars['bp-rp'] < from_absolute(0.4, 'BP-RP', clusters_list.loc[CLUSTER, :])))\n",
    "stars = stars[mask_color]"
   ]
  },
  {
   "cell_type": "code",
   "execution_count": 11,
   "metadata": {},
   "outputs": [],
   "source": [
    "stars.reset_index(inplace=True)"
   ]
  },
  {
   "cell_type": "markdown",
   "metadata": {},
   "source": [
    "## qM coordinates grid"
   ]
  },
  {
   "cell_type": "code",
   "execution_count": 12,
   "metadata": {},
   "outputs": [],
   "source": [
    "q_array = np.sort(abs(np.geomspace(0.1, 1, 50) - 1.1))\n",
    "M_array = np.geomspace(0.91, 2, 200)\n",
    "\n",
    "g_table = pd.DataFrame(columns = M_array, index=q_array)\n",
    "color_table = pd.DataFrame(columns = M_array, index=q_array)"
   ]
  },
  {
   "cell_type": "code",
   "execution_count": 13,
   "metadata": {},
   "outputs": [],
   "source": [
    "g_table = get_stars_with_mass(g_table, 'G')\n",
    "color_table = get_stars_with_mass(color_table, 'BP-RP')"
   ]
  },
  {
   "cell_type": "code",
   "execution_count": 14,
   "metadata": {},
   "outputs": [],
   "source": [
    "g_table = from_absolute(g_table, 'G', clusters_list.loc[CLUSTER, :])\n",
    "color_table = from_absolute(color_table, 'BP-RP', clusters_list.loc[CLUSTER, :])"
   ]
  },
  {
   "cell_type": "markdown",
   "metadata": {},
   "source": [
    "## new coordinates definition"
   ]
  },
  {
   "cell_type": "code",
   "execution_count": 15,
   "metadata": {},
   "outputs": [],
   "source": [
    "M_1 = np.ndarray((len(stars+1)))\n",
    "q = np.ndarray((len(stars+1)))"
   ]
  },
  {
   "cell_type": "code",
   "execution_count": 16,
   "metadata": {},
   "outputs": [
    {
     "name": "stderr",
     "output_type": "stream",
     "text": [
      "100%|██████████| 28/28 [00:00<00:00, 197.72it/s]\n"
     ]
    }
   ],
   "source": [
    "for i in tqdm(range(len(stars))):\n",
    "    g = stars.loc[i,'phot_g_mean_mag']\n",
    "    color = stars.loc[i,'bp-rp']\n",
    "\n",
    "    g_difference = (g_table - g) * (g_table - g)\n",
    "    color_difference = (color_table - color) * (color_table - color)\n",
    "    \n",
    "    distance = g_difference + color_difference\n",
    "    M_1[i] = distance.min().idxmin()\n",
    "    q[i] = distance[M_1[i]].idxmin()"
   ]
  },
  {
   "cell_type": "code",
   "execution_count": 17,
   "metadata": {},
   "outputs": [],
   "source": [
    "stars['M_1_detected'] = M_1\n",
    "stars['q_detected'] = q\n",
    "stars['M_2_detected'] = M_1 * q"
   ]
  },
  {
   "cell_type": "code",
   "execution_count": 18,
   "metadata": {},
   "outputs": [
    {
     "data": {
      "text/plain": [
       "<matplotlib.axes._subplots.AxesSubplot at 0x12ff29b10>"
      ]
     },
     "execution_count": 18,
     "metadata": {},
     "output_type": "execute_result"
    },
    {
     "data": {
      "image/png": "[encoded data removed]",
      "text/plain": [
       "<Figure size 432x288 with 1 Axes>"
      ]
     },
     "metadata": {
      "needs_background": "light"
     },
     "output_type": "display_data"
    }
   ],
   "source": [
    "stars['q_detected'].plot.hist(9)"
   ]
  },
  {
   "cell_type": "markdown",
   "metadata": {},
   "source": [
    "## from qM to magnitudes transition"
   ]
  },
  {
   "cell_type": "code",
   "execution_count": 19,
   "metadata": {},
   "outputs": [],
   "source": [
    "stars['G1_after'] = interp(isochrone['Mini'], isochrone['Gmag'], stars['M_1_detected'])\n",
    "stars['BP1_after'] = interp(isochrone['Mini'], isochrone[\"G_BPmag\"], stars['M_1_detected']) \n",
    "stars['RP1_after'] = interp(isochrone['Mini'], isochrone[\"G_RPmag\"], stars['M_1_detected'])\n",
    "\n",
    "stars['G2_after'] = 0\n",
    "stars['BP2_after'] = 0\n",
    "stars['RP2_after'] = 0 \n",
    "\n",
    "mask = (stars['q_detected'] > 0)\n",
    "stars.loc[stars[mask].index,'G2_after'] = interp(isochrone['Mini'], isochrone['Gmag'],\n",
    "                                                 stars.loc[stars[mask].index,'M_2_detected'])\n",
    "stars.loc[stars[mask].index,'BP2_after'] = interp(isochrone['Mini'], isochrone['G_BPmag'],\n",
    "                                                 stars.loc[stars[mask].index,'M_2_detected'])\n",
    "stars.loc[stars[mask].index,'RP2_after'] = interp(isochrone['Mini'], isochrone['G_RPmag'],\n",
    "                                                 stars.loc[stars[mask].index,'M_2_detected'])"
   ]
  },
  {
   "cell_type": "code",
   "execution_count": 20,
   "metadata": {},
   "outputs": [],
   "source": [
    "stars['G_after'] = stars['G1_after'] - 2.5 * np.log10(1+ pow(2.512, stars['G1_after'] - stars['G2_after']))\n",
    "stars['BP-RP_after'] = (stars['BP1_after'] -\n",
    "                          2.5 *np.log10(1 + pow(2.512, stars['BP1_after'] - stars['BP2_after'])) -\n",
    "                          (stars['RP1_after'] - 2.5 *np.log10(1+ pow(2.512, stars['RP1_after'] - \n",
    "                           stars['RP2_after']))))\n",
    "\n",
    "mask_singles = (stars['q_detected'] == 0)\n",
    "stars.loc[stars[mask_singles].index,'G_after']  = stars.loc[stars[mask_singles].index,'G1_after']\n",
    "stars.loc[stars[mask_singles].index,'BP-RP_after']  = (stars.loc[stars[mask_singles].index,'BP1_after'] -\n",
    "                                                       stars.loc[stars[mask_singles].index,'RP1_after'])"
   ]
  },
  {
   "cell_type": "markdown",
   "metadata": {},
   "source": [
    "## estimation of binaries number"
   ]
  },
  {
   "cell_type": "code",
   "execution_count": 21,
   "metadata": {},
   "outputs": [
    {
     "data": {
      "text/plain": [
       "0.9285714285714286"
      ]
     },
     "execution_count": 21,
     "metadata": {},
     "output_type": "execute_result"
    }
   ],
   "source": [
    "sum(stars['q_detected']>0) / (len(stars))"
   ]
  },
  {
   "cell_type": "code",
   "execution_count": 22,
   "metadata": {},
   "outputs": [
    {
     "data": {
      "image/png": "[encoded data removed]",
      "text/plain": [
       "<Figure size 864x648 with 2 Axes>"
      ]
     },
     "metadata": {
      "needs_background": "light"
     },
     "output_type": "display_data"
    }
   ],
   "source": [
    "fig, ax = plt.subplots(figsize=(12,9))\n",
    "\n",
    "plt.rcParams.update({'font.size': 20})\n",
    "plt.rc('text', usetex=True)\n",
    "plt.rc('font', family='serif')\n",
    "plt.rc('text.latex', preamble=r'\\usepackage[utf8]{inputenc}')\n",
    "plt.rc('text.latex', preamble=r'\\usepackage[russian]{babel}')\n",
    "\n",
    "\n",
    "plt.subplot(1, 2, 1)\n",
    "plt.scatter (stars['bp-rp'],\n",
    "            stars['phot_g_mean_mag'],\n",
    "            c='black', s=2, zorder=100, label='real cluster')\n",
    "\n",
    "plt.plot(from_absolute(isochrone['G_BPmag'] - isochrone['G_RPmag'], 'BP-RP', clusters_list.loc[CLUSTER]), \n",
    "         from_absolute(isochrone['Gmag'], 'G', clusters_list.loc[CLUSTER]), label='isochrone')\n",
    "\n",
    "plt.xlim(stars['bp-rp'].min() - 0.01, stars['bp-rp'].max() + 0.01)\n",
    "plt.ylim(stars['phot_g_mean_mag'].min() - 0.1, stars['phot_g_mean_mag'].max() + 0.1)\n",
    "plt.gca().invert_yaxis()\n",
    "plt.legend(loc='upper right')\n",
    "plt.xlabel('$BP-RP$')\n",
    "plt.ylabel('Звездная величина в полосе $G$')\n",
    "\n",
    "plt.subplot(1, 2, 2)\n",
    "plt.scatter (from_absolute(stars['BP-RP_after'], 'BP-RP', clusters_list.loc[CLUSTER]),\n",
    "             from_absolute(stars['G_after'], 'G', clusters_list.loc[CLUSTER]),\n",
    "             c='black', s=2, zorder=100, label=\"cluster after procedures\")\n",
    "plt.xlim(stars['bp-rp'].min() - 0.01, stars['bp-rp'].max() + 0.01)\n",
    "plt.ylim(stars['phot_g_mean_mag'].min() - 0.1, stars['phot_g_mean_mag'].max() + 0.1)\n",
    "\n",
    "plt.legend(loc='upper right')\n",
    "plt.gca().invert_yaxis()\n",
    "plt.xlabel('$BP-RP$')\n",
    "\n",
    "\n",
    "ax.grid(c='#aaaaaa', ls='--')\n",
    "\n",
    "ax.tick_params(axis='both', which='major')\n",
    "\n",
    "plt.savefig(PLOTS_DIRECTORY / (f\"CMD_{CLUSTER}_before_after_qM.pdf\"), bbox_inches = 'tight')"
   ]
  },
  {
   "cell_type": "code",
   "execution_count": null,
   "metadata": {},
   "outputs": [],
   "source": []
  }
 ],
 "metadata": {
  "kernelspec": {
   "display_name": "Python 3",
   "language": "python",
   "name": "python3"
  },
  "language_info": {
   "codemirror_mode": {
    "name": "ipython",
    "version": 3
   },
   "file_extension": ".py",
   "mimetype": "text/x-python",
   "name": "python",
   "nbconvert_exporter": "python",
   "pygments_lexer": "ipython3",
   "version": "3.7.7"
  }
 },
 "nbformat": 4,
 "nbformat_minor": 2
}
