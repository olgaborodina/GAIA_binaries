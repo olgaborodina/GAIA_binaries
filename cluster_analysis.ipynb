{
 "cells": [
  {
   "cell_type": "markdown",
   "metadata": {},
   "source": [
    "## libs"
   ]
  },
  {
   "cell_type": "code",
   "execution_count": 28,
   "metadata": {},
   "outputs": [],
   "source": [
    "import matplotlib.pyplot as plt\n",
    "import pandas as pd\n",
    "import numpy as np\n",
    "import math as m\n",
    "from pathlib import Path\n",
    "from scipy.interpolate import interp1d"
   ]
  },
  {
   "cell_type": "markdown",
   "metadata": {},
   "source": [
    "## initialization"
   ]
  },
  {
   "cell_type": "code",
   "execution_count": 29,
   "metadata": {},
   "outputs": [],
   "source": [
    "STARS_DIRECTORY = Path('../sessions/')\n",
    "ISOCHRONES_DIRECTORY = Path ('../isochrones/')\n",
    "MAIN_DIRECTORY = Path('../')"
   ]
  },
  {
   "cell_type": "code",
   "execution_count": 30,
   "metadata": {},
   "outputs": [],
   "source": [
    "def read_file(filename):\n",
    "    df = pd.read_csv(filename, delimiter='\\\\s+')\n",
    "    df = df.apply(pd.to_numeric, errors='coerce')\n",
    "    try:\n",
    "        df.dropna(subset = ['phot_g_mean_mag','bp_rp'], inplace = True)\n",
    "    except:\n",
    "        pass\n",
    "    return df"
   ]
  },
  {
   "cell_type": "code",
   "execution_count": 31,
   "metadata": {},
   "outputs": [
    {
     "name": "stderr",
     "output_type": "stream",
     "text": [
      "/usr/local/lib/python3.7/site-packages/pandas/io/excel.py:527: FutureWarning: Passing in an integer for `usecols` has been deprecated. Please pass in a list of int from 0 to `usecols` inclusive instead.\n",
      "  usecols = _maybe_convert_usecols(usecols)\n"
     ]
    }
   ],
   "source": [
    "clusters_list = pd.read_excel(MAIN_DIRECTORY / 'cluster_list.xlsx', sheet_name='list', usecols=10, index_col = 0)"
   ]
  },
  {
   "cell_type": "code",
   "execution_count": 32,
   "metadata": {},
   "outputs": [
    {
     "data": {
      "text/html": [
       "<div>\n",
       "<style scoped>\n",
       "    .dataframe tbody tr th:only-of-type {\n",
       "        vertical-align: middle;\n",
       "    }\n",
       "\n",
       "    .dataframe tbody tr th {\n",
       "        vertical-align: top;\n",
       "    }\n",
       "\n",
       "    .dataframe thead th {\n",
       "        text-align: right;\n",
       "    }\n",
       "</style>\n",
       "<table border=\"1\" class=\"dataframe\">\n",
       "  <thead>\n",
       "    <tr style=\"text-align: right;\">\n",
       "      <th></th>\n",
       "      <th>Age</th>\n",
       "      <th>Distance</th>\n",
       "      <th>E(B-V)</th>\n",
       "      <th>G_abs_min</th>\n",
       "      <th>bp_rp_min</th>\n",
       "      <th>G_turnoff</th>\n",
       "      <th>G_abs_touch</th>\n",
       "      <th>G_abs_max</th>\n",
       "      <th>G_abs(18)</th>\n",
       "    </tr>\n",
       "    <tr>\n",
       "      <th>Cluster</th>\n",
       "      <th></th>\n",
       "      <th></th>\n",
       "      <th></th>\n",
       "      <th></th>\n",
       "      <th></th>\n",
       "      <th></th>\n",
       "      <th></th>\n",
       "      <th></th>\n",
       "      <th></th>\n",
       "    </tr>\n",
       "  </thead>\n",
       "  <tbody>\n",
       "    <tr>\n",
       "      <th>NGC_188</th>\n",
       "      <td>9.780</td>\n",
       "      <td>1800</td>\n",
       "      <td>0.092</td>\n",
       "      <td>3.2</td>\n",
       "      <td>0.95</td>\n",
       "      <td>15.20</td>\n",
       "      <td>5.5</td>\n",
       "      <td>8.5</td>\n",
       "      <td>6.5</td>\n",
       "    </tr>\n",
       "    <tr>\n",
       "      <th>NGC_1647</th>\n",
       "      <td>8.550</td>\n",
       "      <td>540</td>\n",
       "      <td>0.354</td>\n",
       "      <td>-1.0</td>\n",
       "      <td>0.70</td>\n",
       "      <td>10.70</td>\n",
       "      <td>3.0</td>\n",
       "      <td>10.0</td>\n",
       "      <td>8.3</td>\n",
       "    </tr>\n",
       "    <tr>\n",
       "      <th>NGC_6819</th>\n",
       "      <td>9.300</td>\n",
       "      <td>2560</td>\n",
       "      <td>0.237</td>\n",
       "      <td>2.0</td>\n",
       "      <td>0.93</td>\n",
       "      <td>15.37</td>\n",
       "      <td>5.5</td>\n",
       "      <td>7.5</td>\n",
       "      <td>5.3</td>\n",
       "    </tr>\n",
       "    <tr>\n",
       "      <th>NGC_1662</th>\n",
       "      <td>8.695</td>\n",
       "      <td>420</td>\n",
       "      <td>0.300</td>\n",
       "      <td>0.0</td>\n",
       "      <td>0.70</td>\n",
       "      <td>10.25</td>\n",
       "      <td>3.0</td>\n",
       "      <td>10.5</td>\n",
       "      <td>9.0</td>\n",
       "    </tr>\n",
       "    <tr>\n",
       "      <th>NGC_1912</th>\n",
       "      <td>8.350</td>\n",
       "      <td>1144</td>\n",
       "      <td>0.333</td>\n",
       "      <td>-1.0</td>\n",
       "      <td>0.49</td>\n",
       "      <td>11.90</td>\n",
       "      <td>3.0</td>\n",
       "      <td>9.0</td>\n",
       "      <td>6.8</td>\n",
       "    </tr>\n",
       "    <tr>\n",
       "      <th>NGC_1039</th>\n",
       "      <td>8.380</td>\n",
       "      <td>470</td>\n",
       "      <td>0.077</td>\n",
       "      <td>-0.3</td>\n",
       "      <td>0.10</td>\n",
       "      <td>9.70</td>\n",
       "      <td>2.5</td>\n",
       "      <td>11.5</td>\n",
       "      <td>9.4</td>\n",
       "    </tr>\n",
       "    <tr>\n",
       "      <th>NGC_2099</th>\n",
       "      <td>8.695</td>\n",
       "      <td>1400</td>\n",
       "      <td>0.300</td>\n",
       "      <td>-0.5</td>\n",
       "      <td>0.60</td>\n",
       "      <td>12.49</td>\n",
       "      <td>3.0</td>\n",
       "      <td>9.0</td>\n",
       "      <td>6.4</td>\n",
       "    </tr>\n",
       "    <tr>\n",
       "      <th>NGC_2516</th>\n",
       "      <td>8.300</td>\n",
       "      <td>400</td>\n",
       "      <td>0.077</td>\n",
       "      <td>-2.0</td>\n",
       "      <td>0.19</td>\n",
       "      <td>9.00</td>\n",
       "      <td>2.0</td>\n",
       "      <td>11.0</td>\n",
       "      <td>9.8</td>\n",
       "    </tr>\n",
       "    <tr>\n",
       "      <th>NGC_6866</th>\n",
       "      <td>8.640</td>\n",
       "      <td>1326</td>\n",
       "      <td>0.271</td>\n",
       "      <td>-0.5</td>\n",
       "      <td>0.40</td>\n",
       "      <td>11.90</td>\n",
       "      <td>2.5</td>\n",
       "      <td>9.0</td>\n",
       "      <td>6.6</td>\n",
       "    </tr>\n",
       "    <tr>\n",
       "      <th>NGC_2323</th>\n",
       "      <td>8.255</td>\n",
       "      <td>902</td>\n",
       "      <td>0.229</td>\n",
       "      <td>-2.0</td>\n",
       "      <td>0.34</td>\n",
       "      <td>10.90</td>\n",
       "      <td>2.0</td>\n",
       "      <td>9.5</td>\n",
       "      <td>7.6</td>\n",
       "    </tr>\n",
       "    <tr>\n",
       "      <th>NGC_2287</th>\n",
       "      <td>8.250</td>\n",
       "      <td>769</td>\n",
       "      <td>0.062</td>\n",
       "      <td>-2.0</td>\n",
       "      <td>0.03</td>\n",
       "      <td>9.70</td>\n",
       "      <td>2.0</td>\n",
       "      <td>10.5</td>\n",
       "      <td>8.4</td>\n",
       "    </tr>\n",
       "    <tr>\n",
       "      <th>NGC_2281</th>\n",
       "      <td>8.780</td>\n",
       "      <td>500</td>\n",
       "      <td>0.065</td>\n",
       "      <td>-0.2</td>\n",
       "      <td>0.28</td>\n",
       "      <td>10.00</td>\n",
       "      <td>3.0</td>\n",
       "      <td>11.0</td>\n",
       "      <td>9.3</td>\n",
       "    </tr>\n",
       "    <tr>\n",
       "      <th>NGC_3114</th>\n",
       "      <td>8.300</td>\n",
       "      <td>944</td>\n",
       "      <td>0.079</td>\n",
       "      <td>-2.0</td>\n",
       "      <td>0.09</td>\n",
       "      <td>10.50</td>\n",
       "      <td>2.0</td>\n",
       "      <td>10.0</td>\n",
       "      <td>7.9</td>\n",
       "    </tr>\n",
       "    <tr>\n",
       "      <th>Roslund_5</th>\n",
       "      <td>7.840</td>\n",
       "      <td>530</td>\n",
       "      <td>0.071</td>\n",
       "      <td>-1.2</td>\n",
       "      <td>-0.10</td>\n",
       "      <td>7.55</td>\n",
       "      <td>0.2</td>\n",
       "      <td>11.0</td>\n",
       "      <td>9.2</td>\n",
       "    </tr>\n",
       "    <tr>\n",
       "      <th>IC_2714</th>\n",
       "      <td>8.670</td>\n",
       "      <td>1254</td>\n",
       "      <td>0.416</td>\n",
       "      <td>-0.5</td>\n",
       "      <td>0.70</td>\n",
       "      <td>12.30</td>\n",
       "      <td>2.9</td>\n",
       "      <td>8.0</td>\n",
       "      <td>6.4</td>\n",
       "    </tr>\n",
       "    <tr>\n",
       "      <th>NGC_2437</th>\n",
       "      <td>8.500</td>\n",
       "      <td>1375</td>\n",
       "      <td>0.150</td>\n",
       "      <td>-1.0</td>\n",
       "      <td>0.38</td>\n",
       "      <td>12.00</td>\n",
       "      <td>2.5</td>\n",
       "      <td>9.0</td>\n",
       "      <td>6.9</td>\n",
       "    </tr>\n",
       "    <tr>\n",
       "      <th>NGC_2447</th>\n",
       "      <td>8.730</td>\n",
       "      <td>1037</td>\n",
       "      <td>0.050</td>\n",
       "      <td>-0.5</td>\n",
       "      <td>0.21</td>\n",
       "      <td>11.30</td>\n",
       "      <td>3.0</td>\n",
       "      <td>10.0</td>\n",
       "      <td>7.8</td>\n",
       "    </tr>\n",
       "    <tr>\n",
       "      <th>NGC_4103</th>\n",
       "      <td>7.650</td>\n",
       "      <td>1940</td>\n",
       "      <td>0.400</td>\n",
       "      <td>-4.0</td>\n",
       "      <td>0.41</td>\n",
       "      <td>12.20</td>\n",
       "      <td>-3.0</td>\n",
       "      <td>8.0</td>\n",
       "      <td>5.5</td>\n",
       "    </tr>\n",
       "    <tr>\n",
       "      <th>NGC_5281</th>\n",
       "      <td>7.750</td>\n",
       "      <td>1600</td>\n",
       "      <td>0.260</td>\n",
       "      <td>-3.0</td>\n",
       "      <td>0.34</td>\n",
       "      <td>11.00</td>\n",
       "      <td>-1.0</td>\n",
       "      <td>8.5</td>\n",
       "      <td>6.3</td>\n",
       "    </tr>\n",
       "    <tr>\n",
       "      <th>NGC_6405</th>\n",
       "      <td>7.900</td>\n",
       "      <td>450</td>\n",
       "      <td>0.239</td>\n",
       "      <td>-2.0</td>\n",
       "      <td>0.18</td>\n",
       "      <td>9.00</td>\n",
       "      <td>0.0</td>\n",
       "      <td>11.5</td>\n",
       "      <td>9.0</td>\n",
       "    </tr>\n",
       "  </tbody>\n",
       "</table>\n",
       "</div>"
      ],
      "text/plain": [
       "             Age  Distance  E(B-V)  G_abs_min  bp_rp_min  G_turnoff  \\\n",
       "Cluster                                                               \n",
       "NGC_188    9.780      1800   0.092        3.2       0.95      15.20   \n",
       "NGC_1647   8.550       540   0.354       -1.0       0.70      10.70   \n",
       "NGC_6819   9.300      2560   0.237        2.0       0.93      15.37   \n",
       "NGC_1662   8.695       420   0.300        0.0       0.70      10.25   \n",
       "NGC_1912   8.350      1144   0.333       -1.0       0.49      11.90   \n",
       "NGC_1039   8.380       470   0.077       -0.3       0.10       9.70   \n",
       "NGC_2099   8.695      1400   0.300       -0.5       0.60      12.49   \n",
       "NGC_2516   8.300       400   0.077       -2.0       0.19       9.00   \n",
       "NGC_6866   8.640      1326   0.271       -0.5       0.40      11.90   \n",
       "NGC_2323   8.255       902   0.229       -2.0       0.34      10.90   \n",
       "NGC_2287   8.250       769   0.062       -2.0       0.03       9.70   \n",
       "NGC_2281   8.780       500   0.065       -0.2       0.28      10.00   \n",
       "NGC_3114   8.300       944   0.079       -2.0       0.09      10.50   \n",
       "Roslund_5  7.840       530   0.071       -1.2      -0.10       7.55   \n",
       "IC_2714    8.670      1254   0.416       -0.5       0.70      12.30   \n",
       "NGC_2437   8.500      1375   0.150       -1.0       0.38      12.00   \n",
       "NGC_2447   8.730      1037   0.050       -0.5       0.21      11.30   \n",
       "NGC_4103   7.650      1940   0.400       -4.0       0.41      12.20   \n",
       "NGC_5281   7.750      1600   0.260       -3.0       0.34      11.00   \n",
       "NGC_6405   7.900       450   0.239       -2.0       0.18       9.00   \n",
       "\n",
       "           G_abs_touch  G_abs_max  G_abs(18)  \n",
       "Cluster                                       \n",
       "NGC_188            5.5        8.5        6.5  \n",
       "NGC_1647           3.0       10.0        8.3  \n",
       "NGC_6819           5.5        7.5        5.3  \n",
       "NGC_1662           3.0       10.5        9.0  \n",
       "NGC_1912           3.0        9.0        6.8  \n",
       "NGC_1039           2.5       11.5        9.4  \n",
       "NGC_2099           3.0        9.0        6.4  \n",
       "NGC_2516           2.0       11.0        9.8  \n",
       "NGC_6866           2.5        9.0        6.6  \n",
       "NGC_2323           2.0        9.5        7.6  \n",
       "NGC_2287           2.0       10.5        8.4  \n",
       "NGC_2281           3.0       11.0        9.3  \n",
       "NGC_3114           2.0       10.0        7.9  \n",
       "Roslund_5          0.2       11.0        9.2  \n",
       "IC_2714            2.9        8.0        6.4  \n",
       "NGC_2437           2.5        9.0        6.9  \n",
       "NGC_2447           3.0       10.0        7.8  \n",
       "NGC_4103          -3.0        8.0        5.5  \n",
       "NGC_5281          -1.0        8.5        6.3  \n",
       "NGC_6405           0.0       11.5        9.0  "
      ]
     },
     "execution_count": 32,
     "metadata": {},
     "output_type": "execute_result"
    }
   ],
   "source": [
    "clusters_list"
   ]
  },
  {
   "cell_type": "markdown",
   "metadata": {},
   "source": [
    "# working with clusters' data"
   ]
  },
  {
   "cell_type": "code",
   "execution_count": 33,
   "metadata": {},
   "outputs": [],
   "source": [
    "clusters_list['BP_RP_min'] = clusters_list['bp_rp_min'] - 1.33104 * clusters_list['E(B-V)']\n",
    "clusters_list['G_abs_turnoff'] = (clusters_list['G_turnoff'] + 5 - \n",
    "                                  5 * np.log10(clusters_list['Distance'])\n",
    "                                  - 2.749632 * (clusters_list['E(B-V)']))"
   ]
  },
  {
   "cell_type": "code",
   "execution_count": 34,
   "metadata": {},
   "outputs": [],
   "source": [
    "for cluster_name in clusters_list.index.values:\n",
    "    AGE = clusters_list.loc[f'{cluster_name}','Age']\n",
    "    isochrone = read_file(ISOCHRONES_DIRECTORY / (f'{cluster_name}_{AGE}.txt'))\n",
    "    isochrone = isochrone[isochrone['Gmag'] > clusters_list.loc[cluster_name,'G_abs_min']]\n",
    "    isochrone['BP_RP'] = isochrone['G_BPmag'] - isochrone['G_RPmag']\n",
    "    \n",
    "    closest_G_18_isochrone = isochrone.iloc[abs(isochrone['Gmag'] - clusters_list.loc[cluster_name,'G_abs(18)']).idxmin()]\n",
    "    clusters_list.loc[cluster_name,'BP_RP_max'] = closest_G_18_isochrone['BP_RP'] \n",
    "    \n",
    "    clusters_list.loc[cluster_name,'Mass_min'] = closest_G_18_isochrone['Mass']\n",
    "    clusters_list.loc[cluster_name,'Mass_max'] = isochrone.iloc[abs(isochrone['BP_RP'] - \n",
    "                                                 clusters_list.loc[cluster_name,'BP_RP_min']).idxmin()]['Mass']"
   ]
  },
  {
   "cell_type": "code",
   "execution_count": 35,
   "metadata": {},
   "outputs": [],
   "source": [
    "clusters_old = ['NGC_188', 'NGC_6819']\n",
    "BP_RP_min = clusters_list.drop(clusters_old)['BP_RP_min'].max()\n",
    "BP_RP_max = clusters_list.drop(clusters_old)['BP_RP_max'].min()"
   ]
  },
  {
   "cell_type": "markdown",
   "metadata": {},
   "source": [
    "## definition parameters' interval"
   ]
  },
  {
   "cell_type": "code",
   "execution_count": 36,
   "metadata": {},
   "outputs": [],
   "source": [
    "for cluster_name in clusters_list.index.values:\n",
    "    cluster = read_file(STARS_DIRECTORY / f'{cluster_name}_selected_2')\n",
    "    cluster['Gmag'] = (cluster['phot_g_mean_mag'] + 5 - 5 * np.log10(clusters_list.loc[cluster_name,'Distance'])\n",
    "                - 2.749632 * (clusters_list.loc[cluster_name, 'E(B-V)']))\n",
    "    cluster['BP_RP'] = cluster['bp_rp'] - 1.33104 * clusters_list.loc[cluster_name,'E(B-V)']\n",
    "    \n",
    "    mask = ((cluster['Gmag'] > clusters_list.loc[cluster_name,'G_abs_turnoff']) &\n",
    "            (cluster['BP_RP'] <= BP_RP_max) &\n",
    "            (cluster['BP_RP'] >= BP_RP_min)\n",
    "           )\n",
    "    \n",
    "    cluster_cleaned = cluster[mask]\n",
    "    clusters_list.loc[cluster_name,'N'] = len(cluster_cleaned['source_id'])\n",
    "    \n",
    "    cluster_cleaned.to_csv(STARS_DIRECTORY / f'{cluster_name}_selected_interval', sep=' ', index=False, na_rep='NULL')"
   ]
  },
  {
   "cell_type": "markdown",
   "metadata": {},
   "source": [
    "## age, distance and stars' number distributions "
   ]
  },
  {
   "cell_type": "code",
   "execution_count": 38,
   "metadata": {},
   "outputs": [
    {
     "data": {
      "text/plain": [
       "array([[<matplotlib.axes._subplots.AxesSubplot object at 0x11d68a748>]],\n",
       "      dtype=object)"
      ]
     },
     "execution_count": 38,
     "metadata": {},
     "output_type": "execute_result"
    },
    {
     "data": {
      "image/png": "[encoded data removed]",
      "text/plain": [
       "<Figure size 432x288 with 1 Axes>"
      ]
     },
     "metadata": {
      "needs_background": "light"
     },
     "output_type": "display_data"
    }
   ],
   "source": [
    "clusters_list.hist(column='Age', bins=9)"
   ]
  },
  {
   "cell_type": "code",
   "execution_count": 39,
   "metadata": {},
   "outputs": [
    {
     "data": {
      "text/plain": [
       "array([[<matplotlib.axes._subplots.AxesSubplot object at 0x11d6d3358>]],\n",
       "      dtype=object)"
      ]
     },
     "execution_count": 39,
     "metadata": {},
     "output_type": "execute_result"
    },
    {
     "data": {
      "image/png": "[encoded data removed]",
      "text/plain": [
       "<Figure size 432x288 with 1 Axes>"
      ]
     },
     "metadata": {
      "needs_background": "light"
     },
     "output_type": "display_data"
    }
   ],
   "source": [
    "clusters_list.hist(column='Distance', bins=9)"
   ]
  },
  {
   "cell_type": "code",
   "execution_count": 40,
   "metadata": {},
   "outputs": [
    {
     "data": {
      "text/plain": [
       "array([[<matplotlib.axes._subplots.AxesSubplot object at 0x11a01eda0>]],\n",
       "      dtype=object)"
      ]
     },
     "execution_count": 40,
     "metadata": {},
     "output_type": "execute_result"
    },
    {
     "data": {
      "image/png": "[encoded data removed]",
      "text/plain": [
       "<Figure size 432x288 with 1 Axes>"
      ]
     },
     "metadata": {
      "needs_background": "light"
     },
     "output_type": "display_data"
    }
   ],
   "source": [
    "clusters_list.hist(column='N')"
   ]
  },
  {
   "cell_type": "markdown",
   "metadata": {},
   "source": [
    "## clusters'comparing"
   ]
  },
  {
   "cell_type": "code",
   "execution_count": 45,
   "metadata": {},
   "outputs": [
    {
     "data": {
      "image/png": "[encoded data removed]",
      "text/plain": [
       "<Figure size 1800x576 with 1 Axes>"
      ]
     },
     "metadata": {
      "needs_background": "light"
     },
     "output_type": "display_data"
    }
   ],
   "source": [
    "fig, ax = plt.subplots(figsize=(25,8))\n",
    "N = len(clusters_list['N'])\n",
    "width = 10\n",
    "p = plt.bar(np.arange(N), bottom = clusters_list['Mass_min'], \n",
    "                 height = clusters_list['Mass_max'] - clusters_list['Mass_min'], \n",
    "                 width=0.25, label = 'Mass')\n",
    "\n",
    "Mass_min = clusters_list.drop(clusters_old)['Mass_min'].max()\n",
    "Mass_max = clusters_list.drop(clusters_old)['Mass_max'].min()\n",
    "plt.plot(np.arange(N), np.full(N,Mass_min), c='black', label='limits')\n",
    "plt.plot(np.arange(N), np.full(N,Mass_max), c='black',label=None)\n",
    "plt.ylabel('Absolute magnitude G')\n",
    "plt.xticks(np.arange(N), clusters_list.index.values)\n",
    "plt.legend(loc='best')\n",
    "plt.savefig('clusters_Mass_intervals.pdf')"
   ]
  },
  {
   "cell_type": "code",
   "execution_count": 42,
   "metadata": {},
   "outputs": [
    {
     "data": {
      "image/png": "[encoded data removed]",
      "text/plain": [
       "<Figure size 1800x576 with 1 Axes>"
      ]
     },
     "metadata": {
      "needs_background": "light"
     },
     "output_type": "display_data"
    }
   ],
   "source": [
    "fig, ax = plt.subplots(figsize=(25,8))\n",
    "N = len(clusters_list['N'])\n",
    "width = 10\n",
    "p = plt.bar(np.arange(N), bottom = clusters_list['BP_RP_min'], \n",
    "                 height = clusters_list['BP_RP_max'] - clusters_list['BP_RP_min'], \n",
    "                 width=0.25, label = 'color index')\n",
    "\n",
    "plt.plot(np.arange(N), np.full(N,BP_RP_min), c='black', label='limits')\n",
    "plt.plot(np.arange(N), np.full(N,BP_RP_max), c='black',label=None)\n",
    "plt.ylabel('Absolute magnitude G')\n",
    "plt.xticks(np.arange(N), clusters_list.index.values)\n",
    "plt.legend(loc='best')\n",
    "plt.savefig('clusters_colors_intervals.pdf')"
   ]
  },
  {
   "cell_type": "code",
   "execution_count": 43,
   "metadata": {},
   "outputs": [
    {
     "data": {
      "image/png": "[encoded data removed]",
      "text/plain": [
       "<Figure size 1800x576 with 1 Axes>"
      ]
     },
     "metadata": {
      "needs_background": "light"
     },
     "output_type": "display_data"
    }
   ],
   "source": [
    "fig, ax = plt.subplots(figsize=(25,8))\n",
    "N = len(clusters_list['N'])\n",
    "width = 10\n",
    "p_high = plt.bar(np.arange(N), bottom = clusters_list['G_abs_min'], \n",
    "                 height = clusters_list['G_abs_touch'] - clusters_list['G_abs_min'], \n",
    "                 width=0.25, label = 'from the bightest star till turnoff point')\n",
    "p_till_18 = plt.bar(np.arange(N), bottom = clusters_list['G_abs_touch'], \n",
    "                   height = clusters_list['G_abs(18)'] - clusters_list['G_abs_touch'],\n",
    "                   width=0.25, label = 'from turnoff point till apparent G = 18')\n",
    "p_till_end = plt.bar(np.arange(N), bottom = clusters_list['G_abs(18)'], \n",
    "                     height = clusters_list['G_abs_max'] - clusters_list['G_abs(18)'], \n",
    "                     width=0.25, label = 'from apparent G = 18 till the most faint star' )\n",
    "plt.plot(np.arange(N), np.full(N,0), c='black', label='limits')\n",
    "plt.plot(np.arange(N), np.full(N,5.5), c='black',label=None)\n",
    "plt.ylabel('Absolute magnitude G')\n",
    "plt.xticks(np.arange(N), clusters_list.index.values)\n",
    "plt.legend()\n",
    "plt.savefig('clusters_mags_intervals.pdf')"
   ]
  },
  {
   "cell_type": "code",
   "execution_count": 44,
   "metadata": {},
   "outputs": [],
   "source": [
    "clusters_list_out = clusters_list\n",
    "#clusters_list_out.to_excel(MAIN_DIRECTORY / 'cluster_list_data.xlsx')"
   ]
  }
 ],
 "metadata": {
  "kernelspec": {
   "display_name": "Python 3",
   "language": "python",
   "name": "python3"
  },
  "language_info": {
   "codemirror_mode": {
    "name": "ipython",
    "version": 3
   },
   "file_extension": ".py",
   "mimetype": "text/x-python",
   "name": "python",
   "nbconvert_exporter": "python",
   "pygments_lexer": "ipython3",
   "version": "3.7.2"
  }
 },
 "nbformat": 4,
 "nbformat_minor": 2
}
