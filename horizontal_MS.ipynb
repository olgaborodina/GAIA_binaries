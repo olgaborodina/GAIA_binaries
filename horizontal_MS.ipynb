{
 "cells": [
  {
   "cell_type": "markdown",
   "metadata": {},
   "source": [
    "## libs"
   ]
  },
  {
   "cell_type": "code",
   "execution_count": 1,
   "metadata": {},
   "outputs": [],
   "source": [
    "import pandas as pd\n",
    "import numpy as np\n",
    "from pathlib import Path\n",
    "import itertools  "
   ]
  },
  {
   "cell_type": "code",
   "execution_count": 2,
   "metadata": {},
   "outputs": [],
   "source": [
    "from scipy.optimize import curve_fit\n",
    "from scipy.interpolate import interp1d\n",
    "from scipy.stats import norm\n",
    "from scipy.signal import savgol_filter\n",
    "import scipy.integrate as integrate\n",
    "from scipy.stats import kde as kde_stats\n",
    "\n",
    "from sklearn.model_selection import GridSearchCV\n",
    "from sklearn.neighbors import KernelDensity"
   ]
  },
  {
   "cell_type": "code",
   "execution_count": 3,
   "metadata": {},
   "outputs": [],
   "source": [
    "import matplotlib.pyplot as plt\n",
    "from mpl_toolkits import mplot3d\n",
    "from tqdm import tqdm_notebook"
   ]
  },
  {
   "cell_type": "markdown",
   "metadata": {},
   "source": [
    "## initialization"
   ]
  },
  {
   "cell_type": "code",
   "execution_count": 4,
   "metadata": {},
   "outputs": [],
   "source": [
    "STARS_DIRECTORY = Path('../clusters_mem/')\n",
    "MAIN_DIRECTORY = Path('../')\n",
    "PLOTS_DIRECTORY = Path ('../plots/')\n",
    "ISOCHRONES_DIRECTORY = Path ('../isochrones/')"
   ]
  },
  {
   "cell_type": "code",
   "execution_count": 5,
   "metadata": {},
   "outputs": [],
   "source": [
    "CLUSTER = 'NGC_2516'"
   ]
  },
  {
   "cell_type": "code",
   "execution_count": 6,
   "metadata": {},
   "outputs": [],
   "source": [
    "def read_file(filename):\n",
    "    df = pd.read_csv(filename, delimiter='\\\\s+')\n",
    "    df = df.apply(pd.to_numeric, errors='coerce')\n",
    "    try:\n",
    "        df.dropna(subset = ['phot_g_mean_mag','bp_rp'], inplace = True)\n",
    "    except:\n",
    "        pass\n",
    "    return df"
   ]
  },
  {
   "cell_type": "code",
   "execution_count": 7,
   "metadata": {},
   "outputs": [],
   "source": [
    "all_stars = pd.read_hdf(STARS_DIRECTORY / f'{CLUSTER}.h5', delimiter=',')"
   ]
  },
  {
   "cell_type": "markdown",
   "metadata": {},
   "source": [
    "## cutting off stars in the interval"
   ]
  },
  {
   "cell_type": "code",
   "execution_count": 8,
   "metadata": {},
   "outputs": [],
   "source": [
    "mask_probability = (all_stars['P_tot'] > 0)\n",
    "\n",
    "stars = all_stars[mask_probability].copy()\n",
    "stars['phot_color_mag'] = stars['phot_bp_mean_mag'] - stars['phot_rp_mean_mag']"
   ]
  },
  {
   "cell_type": "code",
   "execution_count": 174,
   "metadata": {},
   "outputs": [
    {
     "data": {
      "text/plain": [
       "0.24811318035991403"
      ]
     },
     "execution_count": 174,
     "metadata": {},
     "output_type": "execute_result"
    }
   ],
   "source": [
    "0.13 - (stars['BP_RP'] - stars['phot_color_mag']).mean()"
   ]
  },
  {
   "cell_type": "code",
   "execution_count": 9,
   "metadata": {},
   "outputs": [],
   "source": [
    "mask_color = (stars['phot_color_mag'] > 0.2) & (stars['phot_color_mag'] < 1.75)\n",
    "\n",
    "stars = stars[mask_color]"
   ]
  },
  {
   "cell_type": "code",
   "execution_count": 10,
   "metadata": {},
   "outputs": [],
   "source": [
    "# #optional\n",
    "mask_turnoff = (stars['phot_g_mean_mag'] > 8)\n",
    "\n",
    "stars = stars[mask_turnoff]"
   ]
  },
  {
   "cell_type": "code",
   "execution_count": 11,
   "metadata": {},
   "outputs": [
    {
     "data": {
      "text/plain": [
       "<matplotlib.legend.Legend at 0x12420f450>"
      ]
     },
     "execution_count": 11,
     "metadata": {},
     "output_type": "execute_result"
    },
    {
     "data": {
      "image/png": "[encoded data removed]",
      "text/plain": [
       "<Figure size 360x360 with 1 Axes>"
      ]
     },
     "metadata": {
      "needs_background": "light"
     },
     "output_type": "display_data"
    }
   ],
   "source": [
    "fig, ax = plt.subplots(figsize=(5,5 ))\n",
    "ax.scatter (stars['phot_color_mag'] , stars['phot_g_mean_mag'] , c ='black', s = 3, label ='звезды')\n",
    "\n",
    "ax.grid(c='#aaaaaa', ls='--') \n",
    "locs, labels = plt.yticks()\n",
    "locs, labels = plt.xticks()\n",
    "ax.invert_yaxis()\n",
    "\n",
    "plt.xlabel('Показатель цвета BP-RP')\n",
    "plt.ylabel('Звездная величина в полосе G')\n",
    "ax.tick_params(axis='both', which='major')\n",
    "ax.legend(fontsize = 15)\n"
   ]
  },
  {
   "cell_type": "code",
   "execution_count": 12,
   "metadata": {},
   "outputs": [],
   "source": [
    "def create_isochrone(stars, k_del, order):\n",
    "    # create data\n",
    "    x = stars['phot_color_mag']\n",
    "    y = stars['phot_g_mean_mag']\n",
    "\n",
    "    # Evaluate a gaussian kde on a regular grid of nbins x nbins over data extents\n",
    "    nbins = int(round(200 * len(stars) / 2000, -1)) + order + 1\n",
    "    k = kde_stats.gaussian_kde([x,y],bw_method='scott')\n",
    "    k.set_bandwidth(bw_method=k.factor/k_del)\n",
    "\n",
    "    xi, yi = np.mgrid[x.min():x.max():nbins*1j, y.min():y.max():nbins*1j]\n",
    "    zi = k(np.vstack([xi.flatten(), yi.flatten()]))\n",
    "    f = zi.reshape(xi.shape)\n",
    "\n",
    "    isochrone_f = pd.DataFrame()\n",
    "    for i in range(0, nbins):\n",
    "        value = f[i,:].max()\n",
    "        index_y = f[i,:].argmax()\n",
    "\n",
    "        isochrone_f = isochrone_f.append(\n",
    "                        pd.Series([xi[i,0], yi[0,index_y]]), ignore_index=True)\n",
    "\n",
    "    isochrone_f = isochrone_f.rename(columns={0 : 'bp-rp, mag', 1 : 'g, mag'})\n",
    "    isochrone_f['_g, mag'] = savgol_filter(isochrone_f['g, mag'], order, 2)\n",
    "    \n",
    "    return isochrone_f\n",
    "    "
   ]
  },
  {
   "cell_type": "markdown",
   "metadata": {},
   "source": [
    "## creating observational isochrone"
   ]
  },
  {
   "cell_type": "code",
   "execution_count": 15,
   "metadata": {},
   "outputs": [],
   "source": [
    "k_params = np.linspace(1, 7, 11)\n",
    "order_params = np.arange(3, 11, 2)"
   ]
  },
  {
   "cell_type": "code",
   "execution_count": 16,
   "metadata": {},
   "outputs": [],
   "source": [
    "results = []\n",
    "for k_del, order in list(itertools.product(k_params, order_params)):\n",
    "    isochrone_f = create_isochrone(stars, k_del, order)\n",
    "    func_iso = interp1d(isochrone_f['bp-rp, mag'], isochrone_f['g, mag']) \n",
    "    g_new = stars['phot_g_mean_mag'] - func_iso(stars['phot_color_mag'])\n",
    "    results.append([k_del, order, g_new.max(), g_new[g_new > 0].std()])"
   ]
  },
  {
   "cell_type": "code",
   "execution_count": 17,
   "metadata": {},
   "outputs": [
    {
     "data": {
      "text/plain": [
       "<matplotlib.collections.PathCollection at 0x128c6b110>"
      ]
     },
     "execution_count": 17,
     "metadata": {},
     "output_type": "execute_result"
    },
    {
     "data": {
      "image/png": "[encoded data removed]",
      "text/plain": [
       "<Figure size 432x288 with 1 Axes>"
      ]
     },
     "metadata": {
      "needs_background": "light"
     },
     "output_type": "display_data"
    }
   ],
   "source": [
    "results = np.array(results)\n",
    "plt.scatter(np.arange(0,len(results)), results[:, 2]-0.8)\n",
    "plt.scatter(np.arange(0,len(results)), results[:, 3])"
   ]
  },
  {
   "cell_type": "code",
   "execution_count": 18,
   "metadata": {},
   "outputs": [
    {
     "data": {
      "text/plain": [
       "array([5, 2, 0, 3, 7])"
      ]
     },
     "execution_count": 18,
     "metadata": {},
     "output_type": "execute_result"
    }
   ],
   "source": [
    "results[:,2].argsort()[:5]"
   ]
  },
  {
   "cell_type": "code",
   "execution_count": 19,
   "metadata": {},
   "outputs": [
    {
     "data": {
      "text/plain": [
       "array([22, 18, 35, 31, 26])"
      ]
     },
     "execution_count": 19,
     "metadata": {},
     "output_type": "execute_result"
    }
   ],
   "source": [
    "results[:,3].argsort()[:5]"
   ]
  },
  {
   "cell_type": "code",
   "execution_count": 20,
   "metadata": {},
   "outputs": [
    {
     "data": {
      "text/plain": [
       "array([1.6       , 5.        , 0.25830897, 0.06333804])"
      ]
     },
     "execution_count": 20,
     "metadata": {},
     "output_type": "execute_result"
    }
   ],
   "source": [
    "results[5]"
   ]
  },
  {
   "cell_type": "code",
   "execution_count": 21,
   "metadata": {},
   "outputs": [],
   "source": [
    "isochrone_f = create_isochrone(stars, 1.6, 5)"
   ]
  },
  {
   "cell_type": "code",
   "execution_count": 22,
   "metadata": {},
   "outputs": [],
   "source": [
    "plt.rcParams.update({'font.size': 12})\n",
    "plt.rc('text', usetex=True)\n",
    "plt.rc('font', family='serif')\n",
    "plt.rc('text.latex', preamble=r'\\usepackage[utf8]{inputenc}')\n",
    "plt.rc('text.latex', preamble=r'\\usepackage[russian]{babel}')"
   ]
  },
  {
   "cell_type": "code",
   "execution_count": 23,
   "metadata": {},
   "outputs": [
    {
     "data": {
      "image/png": "[encoded data removed]",
      "text/plain": [
       "<Figure size 187.2x252 with 1 Axes>"
      ]
     },
     "metadata": {
      "needs_background": "light"
     },
     "output_type": "display_data"
    }
   ],
   "source": [
    "fig, ax = plt.subplots(figsize=(2.6,3.5))\n",
    "ax.scatter (stars['phot_color_mag'], stars['phot_g_mean_mag'], c ='black', s=2, lw=0, label='звезды', zorder=2)\n",
    "ax.plot(isochrone_f['bp-rp, mag'],isochrone_f['g, mag'] , c ='red', lw=1,  label ='изохрона', zorder=4)\n",
    "\n",
    "ax.grid(c='#aaaaaa', ls='--') \n",
    "locs, labels = plt.yticks()\n",
    "locs, labels = plt.xticks()\n",
    "\n",
    "ax.set_xlim(stars['phot_color_mag'].min(), stars['phot_color_mag'].max())\n",
    "ax.invert_yaxis()\n",
    "\n",
    "plt.xlabel('Показатель цвета $BP-RP$')\n",
    "plt.ylabel('Звездная величина в полосе $G$')\n",
    "ax.tick_params(axis='both', which='major')\n",
    "ax.legend()\n",
    "\n",
    "#plt.savefig( PLOTS_DIRECTORY / f\"cmd_approximation_{CLUSTER}.pdf\", bbox_inches = 'tight')\n",
    "plt.show()"
   ]
  },
  {
   "cell_type": "markdown",
   "metadata": {},
   "source": [
    "## transition to a new coordinate system"
   ]
  },
  {
   "cell_type": "code",
   "execution_count": 24,
   "metadata": {},
   "outputs": [],
   "source": [
    "func_iso = interp1d(isochrone_f['bp-rp, mag'], isochrone_f['g, mag']) \n",
    "stars['Gmag_new'] = stars['phot_g_mean_mag'] - func_iso(stars['phot_color_mag'])"
   ]
  },
  {
   "cell_type": "code",
   "execution_count": 25,
   "metadata": {},
   "outputs": [
    {
     "data": {
      "image/png": "[encoded data removed]",
      "text/plain": [
       "<Figure size 288x180 with 1 Axes>"
      ]
     },
     "metadata": {
      "needs_background": "light"
     },
     "output_type": "display_data"
    }
   ],
   "source": [
    "fig, ax = plt.subplots(figsize=(4,2.5))\n",
    "ax.scatter (stars['phot_color_mag'] , stars['Gmag_new'] , c ='black', s = 1, label ='звезды')\n",
    "\n",
    "ax.grid(c='#aaaaaa', ls='--') \n",
    "locs, labels = plt.yticks()\n",
    "locs, labels = plt.xticks()\n",
    "\n",
    "ax.set_ylim(-1.4,1)\n",
    "ax.invert_yaxis()\n",
    "\n",
    "plt.xlabel('Показатель цвета BP-RP')\n",
    "plt.ylabel('$G_{new}$')\n",
    "ax.tick_params(axis='both', which='major')\n",
    "\n",
    "plt.savefig(PLOTS_DIRECTORY / f\"horizontal_sequence_{CLUSTER}.pdf\", bbox_inches = 'tight')\n",
    "plt.show()"
   ]
  },
  {
   "cell_type": "markdown",
   "metadata": {},
   "source": [
    "## density profile"
   ]
  },
  {
   "cell_type": "code",
   "execution_count": 26,
   "metadata": {},
   "outputs": [
    {
     "name": "stderr",
     "output_type": "stream",
     "text": [
      "/usr/local/lib/python3.7/site-packages/sklearn/model_selection/_search.py:823: FutureWarning: The parameter 'iid' is deprecated in 0.22 and will be removed in 0.24.\n",
      "  \"removed in 0.24.\", FutureWarning\n"
     ]
    }
   ],
   "source": [
    "num_stars = len(stars)\n",
    "profile = pd.DataFrame(data = {'x' : np.linspace(-2, 1, 701)})\n",
    "x = stars['Gmag_new']\n",
    "\n",
    "# use grid search cross-validation to optimize the bandwidth\n",
    "grid = GridSearchCV(KernelDensity(),\n",
    "                    {'bandwidth': np.linspace(0.01, 0.2, 100)}, iid=True, cv=5) \n",
    "grid.fit(x[:, None])\n",
    "bandwidth_opt = sum(grid.best_params_.values())"
   ]
  },
  {
   "cell_type": "code",
   "execution_count": 27,
   "metadata": {},
   "outputs": [
    {
     "data": {
      "text/plain": [
       "{'bandwidth': 0.04262626262626263}"
      ]
     },
     "execution_count": 27,
     "metadata": {},
     "output_type": "execute_result"
    }
   ],
   "source": [
    "grid.best_params_"
   ]
  },
  {
   "cell_type": "code",
   "execution_count": 28,
   "metadata": {},
   "outputs": [],
   "source": [
    "kde = KernelDensity(kernel='gaussian', bandwidth=bandwidth_opt)\n",
    "\n",
    "kde.fit(stars[['Gmag_new']].to_numpy())\n",
    "profile['density'] = np.exp(kde.score_samples(profile[['x']].to_numpy())) * num_stars"
   ]
  },
  {
   "cell_type": "code",
   "execution_count": 29,
   "metadata": {},
   "outputs": [
    {
     "data": {
      "text/plain": [
       "Text(0.5, 0, '$G_{new}$')"
      ]
     },
     "execution_count": 29,
     "metadata": {},
     "output_type": "execute_result"
    },
    {
     "data": {
      "image/png": "[encoded data removed]",
      "text/plain": [
       "<Figure size 504x360 with 1 Axes>"
      ]
     },
     "metadata": {
      "needs_background": "light"
     },
     "output_type": "display_data"
    }
   ],
   "source": [
    "fig, ax = plt.subplots(figsize=(7,5))\n",
    "ax.plot(profile['x'], profile['density'], lw = 1.5, color = 'black')\n",
    "ax.set_xlim(-2, 1)\n",
    "\n",
    "ax.legend(loc='upper right', fontsize=10)\n",
    "ax.set_xlabel('$G_{new}$')"
   ]
  },
  {
   "cell_type": "markdown",
   "metadata": {},
   "source": [
    "## approximation with gauss function"
   ]
  },
  {
   "cell_type": "code",
   "execution_count": 30,
   "metadata": {},
   "outputs": [],
   "source": [
    "def f(x, a, b, c, d):\n",
    "    return a * np.exp(-(x - b)**2 / c) + d\n",
    "\n",
    "row_max = profile['density'].idxmax()\n",
    "popt, pcov = curve_fit(f, profile.iloc[row_max-35:row_max+155, 0], profile.iloc[row_max-35:row_max+155, 1],\n",
    "                           bounds=([0, profile.iloc[row_max, 0]-0.1, 0, -0.1],\n",
    "                                   [5000, profile.iloc[row_max, 0]+0.1, 0.8, 0.1]),\n",
    "                          maxfev=9000)\n",
    "\n",
    "profile_gauss = pd.DataFrame(data={'x': profile['x']})\n",
    "profile_gauss['density'] = f(profile_gauss['x'], *popt)"
   ]
  },
  {
   "cell_type": "code",
   "execution_count": 33,
   "metadata": {},
   "outputs": [
    {
     "data": {
      "image/png": "[encoded data removed]",
      "text/plain": [
       "<Figure size 216x144 with 1 Axes>"
      ]
     },
     "metadata": {
      "needs_background": "light"
     },
     "output_type": "display_data"
    }
   ],
   "source": [
    "fig, ax = plt.subplots(figsize=(3,2))\n",
    "ax.plot(profile['x'], profile['density'], lw = 1.4, color = 'black', label='плотность \\n звезд $f_{stars}$')\n",
    "ax.plot(profile_gauss['x'], profile_gauss['density'], lw = 1.2, ls='--', color='darkred', label='гауссова \\n функция $f_{Gauss}$')\n",
    "\n",
    "ax.set_xlim(-2, 0.5)\n",
    "\n",
    "ax.legend(loc='upper left', fontsize='small')\n",
    "ax.set_xlabel('$G_{new}$')\n",
    "fig.savefig(PLOTS_DIRECTORY / f\"profile_{CLUSTER}.pdf\", bbox_inches = 'tight')"
   ]
  },
  {
   "cell_type": "code",
   "execution_count": 34,
   "metadata": {},
   "outputs": [
    {
     "data": {
      "image/png": "[encoded data removed]",
      "text/plain": [
       "<Figure size 216x144 with 1 Axes>"
      ]
     },
     "metadata": {
      "needs_background": "light"
     },
     "output_type": "display_data"
    }
   ],
   "source": [
    "profile['difference'] = profile['density'] - profile_gauss['density']\n",
    "\n",
    "fig, ax = plt.subplots(figsize=(3,2))\n",
    "ax.plot(profile['x'], profile['difference'], lw = 1.1, color = 'black')\n",
    "ax.set_xlim(-2, 0.6)\n",
    "\n",
    "ax.legend(loc='upper left', fontsize='small')\n",
    "ax.set_xlabel('$G_{new}$')\n",
    "fig.savefig(PLOTS_DIRECTORY / f\"profile_binaries_{CLUSTER}.pdf\", bbox_inches = 'tight')"
   ]
  },
  {
   "cell_type": "markdown",
   "metadata": {},
   "source": [
    "## estimation of binaries number"
   ]
  },
  {
   "cell_type": "code",
   "execution_count": 35,
   "metadata": {},
   "outputs": [],
   "source": [
    "mask_below = (profile['difference'] < 0)\n",
    "mask_left = (profile['x'] > 0)"
   ]
  },
  {
   "cell_type": "code",
   "execution_count": 36,
   "metadata": {},
   "outputs": [],
   "source": [
    "profile.loc[mask_below & mask_left, 'difference'] = 0\n",
    "\n",
    "number_of_multiples = int(integrate.trapz(profile['difference'], profile['x']))"
   ]
  },
  {
   "cell_type": "code",
   "execution_count": 37,
   "metadata": {},
   "outputs": [
    {
     "data": {
      "text/plain": [
       "0.16455696202531644"
      ]
     },
     "execution_count": 37,
     "metadata": {},
     "output_type": "execute_result"
    }
   ],
   "source": [
    "# доля двойных из интегрирования профиля\n",
    "number_of_multiples / len(stars)"
   ]
  },
  {
   "cell_type": "code",
   "execution_count": 38,
   "metadata": {},
   "outputs": [],
   "source": [
    "# clusters_list = pd.read_excel(MAIN_DIRECTORY / 'cluster_list_data.xlsx', index_col = 0)"
   ]
  },
  {
   "cell_type": "code",
   "execution_count": 39,
   "metadata": {},
   "outputs": [],
   "source": [
    "# clusters_list.loc[CLUSTER, 'N_binaries'] = number_of_multiples\n",
    "# clusters_list.loc[CLUSTER, 'N_singles'] = clusters_list.loc[CLUSTER, 'N'] - number_of_multiples\n",
    "# clusters_list.loc[CLUSTER, 'fraction'] = number_of_multiples / clusters_list.loc[CLUSTER, 'N']"
   ]
  },
  {
   "cell_type": "code",
   "execution_count": 32,
   "metadata": {},
   "outputs": [],
   "source": [
    "# clusters_list.to_excel(MAIN_DIRECTORY / 'cluster_list_data.xlsx')"
   ]
  }
 ],
 "metadata": {
  "kernelspec": {
   "display_name": "Python 3",
   "language": "python",
   "name": "python3"
  },
  "language_info": {
   "codemirror_mode": {
    "name": "ipython",
    "version": 3
   },
   "file_extension": ".py",
   "mimetype": "text/x-python",
   "name": "python",
   "nbconvert_exporter": "python",
   "pygments_lexer": "ipython3",
   "version": "3.7.7"
  }
 },
 "nbformat": 4,
 "nbformat_minor": 2
}
